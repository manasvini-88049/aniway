{
 "cells": [
  {
   "cell_type": "code",
   "execution_count": 48,
   "metadata": {},
   "outputs": [],
   "source": [
    "import pandas as pd \n",
    "import sklearn\n",
    "from sklearn.feature_extraction.text import TfidfVectorizer\n",
    "from sklearn.metrics.pairwise import linear_kernel\n",
    "import matplotlib.pyplot as plt\n",
    "import seaborn as sns\n",
    "import numpy as np "
   ]
  },
  {
   "cell_type": "code",
   "execution_count": 148,
   "metadata": {},
   "outputs": [],
   "source": [
    "df=pd.read_csv(\"dataset.csv\")"
   ]
  },
  {
   "cell_type": "code",
   "execution_count": 149,
   "metadata": {},
   "outputs": [
    {
     "name": "stdout",
     "output_type": "stream",
     "text": [
      "<class 'pandas.core.frame.DataFrame'>\n",
      "RangeIndex: 45717 entries, 0 to 45716\n",
      "Data columns (total 13 columns):\n",
      " #   Column           Non-Null Count  Dtype \n",
      "---  ------           --------------  ----- \n",
      " 0   Title            45717 non-null  object\n",
      " 1   Genre            45717 non-null  object\n",
      " 2   User Rating      25009 non-null  object\n",
      " 3   Number of Votes  25009 non-null  object\n",
      " 4   Runtime          32549 non-null  object\n",
      " 5   Year             45591 non-null  object\n",
      " 6   Summary          23547 non-null  object\n",
      " 7   Stars            13676 non-null  object\n",
      " 8   Certificate      28694 non-null  object\n",
      " 9   Metascore        341 non-null    object\n",
      " 10  Gross            25009 non-null  object\n",
      " 11  Episode          45717 non-null  object\n",
      " 12  Episode Title    34910 non-null  object\n",
      "dtypes: object(13)\n",
      "memory usage: 4.5+ MB\n"
     ]
    }
   ],
   "source": [
    "df.info()"
   ]
  },
  {
   "cell_type": "code",
   "execution_count": 150,
   "metadata": {},
   "outputs": [],
   "source": [
    "df=df.drop(['Stars'], axis=1)\n"
   ]
  },
  {
   "cell_type": "code",
   "execution_count": 151,
   "metadata": {},
   "outputs": [],
   "source": [
    "df=df.drop(['Metascore', 'Episode Title','Episode'], axis=1)"
   ]
  },
  {
   "cell_type": "code",
   "execution_count": 152,
   "metadata": {},
   "outputs": [],
   "source": [
    "df=df.drop(['Certificate','Runtime','Year'], axis=1)"
   ]
  },
  {
   "cell_type": "code",
   "execution_count": 153,
   "metadata": {},
   "outputs": [
    {
     "data": {
      "text/plain": [
       "Title              False\n",
       "Genre              False\n",
       "User Rating         True\n",
       "Number of Votes     True\n",
       "Summary             True\n",
       "Gross               True\n",
       "dtype: bool"
      ]
     },
     "execution_count": 153,
     "metadata": {},
     "output_type": "execute_result"
    }
   ],
   "source": [
    "df.isna().any()"
   ]
  },
  {
   "cell_type": "code",
   "execution_count": 154,
   "metadata": {},
   "outputs": [],
   "source": [
    "df = df[pd.to_numeric(df['User Rating'], errors='coerce').notna()]"
   ]
  },
  {
   "cell_type": "code",
   "execution_count": 155,
   "metadata": {},
   "outputs": [],
   "source": [
    "df['Genre'] = df['Genre'].str.split(', ')\n",
    "df['User Rating'] = df['User Rating'].astype(float)\n",
    "df['Gross'] = df['Gross'].str.replace(',', '').astype(float)"
   ]
  },
  {
   "cell_type": "code",
   "execution_count": 156,
   "metadata": {},
   "outputs": [
    {
     "data": {
      "text/plain": [
       "Title              False\n",
       "Genre              False\n",
       "User Rating        False\n",
       "Number of Votes    False\n",
       "Summary             True\n",
       "Gross              False\n",
       "dtype: bool"
      ]
     },
     "execution_count": 156,
     "metadata": {},
     "output_type": "execute_result"
    }
   ],
   "source": [
    "df.isnull().any()"
   ]
  },
  {
   "cell_type": "code",
   "execution_count": 157,
   "metadata": {},
   "outputs": [],
   "source": [
    "df = df.dropna(axis=0, how='any')"
   ]
  },
  {
   "cell_type": "code",
   "execution_count": 158,
   "metadata": {},
   "outputs": [
    {
     "data": {
      "text/plain": [
       "Title              False\n",
       "Genre              False\n",
       "User Rating        False\n",
       "Number of Votes    False\n",
       "Summary            False\n",
       "Gross              False\n",
       "dtype: bool"
      ]
     },
     "execution_count": 158,
     "metadata": {},
     "output_type": "execute_result"
    }
   ],
   "source": [
    "df.isnull().any()"
   ]
  },
  {
   "cell_type": "code",
   "execution_count": 159,
   "metadata": {},
   "outputs": [
    {
     "name": "stdout",
     "output_type": "stream",
     "text": [
      "<class 'pandas.core.frame.DataFrame'>\n",
      "Index: 20712 entries, 0 to 45716\n",
      "Data columns (total 6 columns):\n",
      " #   Column           Non-Null Count  Dtype  \n",
      "---  ------           --------------  -----  \n",
      " 0   Title            20712 non-null  object \n",
      " 1   Genre            20712 non-null  object \n",
      " 2   User Rating      20712 non-null  float64\n",
      " 3   Number of Votes  20712 non-null  object \n",
      " 4   Summary          20712 non-null  object \n",
      " 5   Gross            20712 non-null  float64\n",
      "dtypes: float64(2), object(4)\n",
      "memory usage: 1.1+ MB\n"
     ]
    }
   ],
   "source": [
    "df.info()"
   ]
  },
  {
   "cell_type": "code",
   "execution_count": 160,
   "metadata": {},
   "outputs": [
    {
     "data": {
      "text/html": [
       "<div>\n",
       "<style scoped>\n",
       "    .dataframe tbody tr th:only-of-type {\n",
       "        vertical-align: middle;\n",
       "    }\n",
       "\n",
       "    .dataframe tbody tr th {\n",
       "        vertical-align: top;\n",
       "    }\n",
       "\n",
       "    .dataframe thead th {\n",
       "        text-align: right;\n",
       "    }\n",
       "</style>\n",
       "<table border=\"1\" class=\"dataframe\">\n",
       "  <thead>\n",
       "    <tr style=\"text-align: right;\">\n",
       "      <th></th>\n",
       "      <th>Title</th>\n",
       "      <th>Genre</th>\n",
       "      <th>User Rating</th>\n",
       "      <th>Number of Votes</th>\n",
       "      <th>Summary</th>\n",
       "      <th>Gross</th>\n",
       "    </tr>\n",
       "  </thead>\n",
       "  <tbody>\n",
       "    <tr>\n",
       "      <th>135</th>\n",
       "      <td>Dragon Ball</td>\n",
       "      <td>[Animation, Action, Adventure]</td>\n",
       "      <td>8.6</td>\n",
       "      <td>63,122</td>\n",
       "      <td>Dragon Ball tells the tale of a young warrior ...</td>\n",
       "      <td>63122.0</td>\n",
       "    </tr>\n",
       "    <tr>\n",
       "      <th>148</th>\n",
       "      <td>Berserk</td>\n",
       "      <td>[Animation, Action, Adventure]</td>\n",
       "      <td>6.7</td>\n",
       "      <td>6,943</td>\n",
       "      <td>Guts, \"The Black Swordsman\", is pursued by dem...</td>\n",
       "      <td>6943.0</td>\n",
       "    </tr>\n",
       "    <tr>\n",
       "      <th>196</th>\n",
       "      <td>Rurouni Kenshin</td>\n",
       "      <td>[Animation, Action, Adventure]</td>\n",
       "      <td>8.3</td>\n",
       "      <td>529</td>\n",
       "      <td>During the violent era known as the Bakumatsu,...</td>\n",
       "      <td>529.0</td>\n",
       "    </tr>\n",
       "    <tr>\n",
       "      <th>200</th>\n",
       "      <td>Dragon Ball Z</td>\n",
       "      <td>[Animation, Action, Adventure]</td>\n",
       "      <td>8.8</td>\n",
       "      <td>84,577</td>\n",
       "      <td>The adventures of Earth's martial arts defende...</td>\n",
       "      <td>84577.0</td>\n",
       "    </tr>\n",
       "    <tr>\n",
       "      <th>268</th>\n",
       "      <td>Hunter x Hunter</td>\n",
       "      <td>[Animation, Action, Adventure]</td>\n",
       "      <td>8.6</td>\n",
       "      <td>8,998</td>\n",
       "      <td>The history of Gon Freecs, a boy who left home...</td>\n",
       "      <td>8998.0</td>\n",
       "    </tr>\n",
       "    <tr>\n",
       "      <th>...</th>\n",
       "      <td>...</td>\n",
       "      <td>...</td>\n",
       "      <td>...</td>\n",
       "      <td>...</td>\n",
       "      <td>...</td>\n",
       "      <td>...</td>\n",
       "    </tr>\n",
       "    <tr>\n",
       "      <th>45710</th>\n",
       "      <td>Demon Slayer: Kimetsu no Yaiba</td>\n",
       "      <td>[Animation, Action, Adventure]</td>\n",
       "      <td>8.4</td>\n",
       "      <td>3,401</td>\n",
       "      <td>Two demons, Tamayo and Yushiro come to Tanjiro...</td>\n",
       "      <td>3401.0</td>\n",
       "    </tr>\n",
       "    <tr>\n",
       "      <th>45711</th>\n",
       "      <td>Demon Slayer: Kimetsu no Yaiba</td>\n",
       "      <td>[Animation, Action, Adventure]</td>\n",
       "      <td>8.4</td>\n",
       "      <td>3,375</td>\n",
       "      <td>With Tamayo coming to Nezuko's aid the battle ...</td>\n",
       "      <td>3375.0</td>\n",
       "    </tr>\n",
       "    <tr>\n",
       "      <th>45712</th>\n",
       "      <td>Demon Slayer: Kimetsu no Yaiba</td>\n",
       "      <td>[Animation, Action, Adventure]</td>\n",
       "      <td>7.3</td>\n",
       "      <td>3,432</td>\n",
       "      <td>Tanjiro heads to his next location southeast; ...</td>\n",
       "      <td>3432.0</td>\n",
       "    </tr>\n",
       "    <tr>\n",
       "      <th>45713</th>\n",
       "      <td>Demon Slayer: Kimetsu no Yaiba</td>\n",
       "      <td>[Animation, Action, Adventure]</td>\n",
       "      <td>7.9</td>\n",
       "      <td>3,309</td>\n",
       "      <td>Tanjiro gets separated from Zenitsu when he en...</td>\n",
       "      <td>3309.0</td>\n",
       "    </tr>\n",
       "    <tr>\n",
       "      <th>45714</th>\n",
       "      <td>One Piece</td>\n",
       "      <td>[Animation, Action, Adventure]</td>\n",
       "      <td>9.4</td>\n",
       "      <td>2,743</td>\n",
       "      <td>Carrot tells Sanji the news about Pedro. Germa...</td>\n",
       "      <td>2743.0</td>\n",
       "    </tr>\n",
       "  </tbody>\n",
       "</table>\n",
       "<p>14969 rows × 6 columns</p>\n",
       "</div>"
      ],
      "text/plain": [
       "                                Title                           Genre  \\\n",
       "135                       Dragon Ball  [Animation, Action, Adventure]   \n",
       "148                           Berserk  [Animation, Action, Adventure]   \n",
       "196                   Rurouni Kenshin  [Animation, Action, Adventure]   \n",
       "200                     Dragon Ball Z  [Animation, Action, Adventure]   \n",
       "268                   Hunter x Hunter  [Animation, Action, Adventure]   \n",
       "...                               ...                             ...   \n",
       "45710  Demon Slayer: Kimetsu no Yaiba  [Animation, Action, Adventure]   \n",
       "45711  Demon Slayer: Kimetsu no Yaiba  [Animation, Action, Adventure]   \n",
       "45712  Demon Slayer: Kimetsu no Yaiba  [Animation, Action, Adventure]   \n",
       "45713  Demon Slayer: Kimetsu no Yaiba  [Animation, Action, Adventure]   \n",
       "45714                       One Piece  [Animation, Action, Adventure]   \n",
       "\n",
       "       User Rating Number of Votes  \\\n",
       "135            8.6          63,122   \n",
       "148            6.7           6,943   \n",
       "196            8.3             529   \n",
       "200            8.8          84,577   \n",
       "268            8.6           8,998   \n",
       "...            ...             ...   \n",
       "45710          8.4           3,401   \n",
       "45711          8.4           3,375   \n",
       "45712          7.3           3,432   \n",
       "45713          7.9           3,309   \n",
       "45714          9.4           2,743   \n",
       "\n",
       "                                                 Summary    Gross  \n",
       "135    Dragon Ball tells the tale of a young warrior ...  63122.0  \n",
       "148    Guts, \"The Black Swordsman\", is pursued by dem...   6943.0  \n",
       "196    During the violent era known as the Bakumatsu,...    529.0  \n",
       "200    The adventures of Earth's martial arts defende...  84577.0  \n",
       "268    The history of Gon Freecs, a boy who left home...   8998.0  \n",
       "...                                                  ...      ...  \n",
       "45710  Two demons, Tamayo and Yushiro come to Tanjiro...   3401.0  \n",
       "45711  With Tamayo coming to Nezuko's aid the battle ...   3375.0  \n",
       "45712  Tanjiro heads to his next location southeast; ...   3432.0  \n",
       "45713  Tanjiro gets separated from Zenitsu when he en...   3309.0  \n",
       "45714  Carrot tells Sanji the news about Pedro. Germa...   2743.0  \n",
       "\n",
       "[14969 rows x 6 columns]"
      ]
     },
     "execution_count": 160,
     "metadata": {},
     "output_type": "execute_result"
    }
   ],
   "source": [
    "duplicate = df[df.duplicated('Title')]\n",
    "duplicate"
   ]
  },
  {
   "cell_type": "code",
   "execution_count": 161,
   "metadata": {},
   "outputs": [],
   "source": [
    "df2=df.drop_duplicates(['Title'])"
   ]
  },
  {
   "cell_type": "code",
   "execution_count": 162,
   "metadata": {},
   "outputs": [
    {
     "data": {
      "text/plain": [
       "Title              False\n",
       "Genre              False\n",
       "User Rating        False\n",
       "Number of Votes    False\n",
       "Summary            False\n",
       "Gross              False\n",
       "dtype: bool"
      ]
     },
     "execution_count": 162,
     "metadata": {},
     "output_type": "execute_result"
    }
   ],
   "source": [
    "df2.shape\n",
    "df2.head()\n",
    "df2.isna().any()"
   ]
  },
  {
   "cell_type": "code",
   "execution_count": 163,
   "metadata": {},
   "outputs": [
    {
     "name": "stdout",
     "output_type": "stream",
     "text": [
      "<class 'pandas.core.frame.DataFrame'>\n",
      "Index: 5743 entries, 0 to 45716\n",
      "Data columns (total 6 columns):\n",
      " #   Column           Non-Null Count  Dtype  \n",
      "---  ------           --------------  -----  \n",
      " 0   Title            5743 non-null   object \n",
      " 1   Genre            5743 non-null   object \n",
      " 2   User Rating      5743 non-null   float64\n",
      " 3   Number of Votes  5743 non-null   object \n",
      " 4   Summary          5743 non-null   object \n",
      " 5   Gross            5743 non-null   float64\n",
      "dtypes: float64(2), object(4)\n",
      "memory usage: 314.1+ KB\n"
     ]
    },
    {
     "data": {
      "text/plain": [
       "(5743, 6)"
      ]
     },
     "execution_count": 163,
     "metadata": {},
     "output_type": "execute_result"
    }
   ],
   "source": [
    "\n",
    "df2.info()\n",
    "df2.shape"
   ]
  },
  {
   "cell_type": "code",
   "execution_count": 164,
   "metadata": {},
   "outputs": [
    {
     "data": {
      "text/plain": [
       "<Axes: >"
      ]
     },
     "execution_count": 164,
     "metadata": {},
     "output_type": "execute_result"
    },
    {
     "data": {
      "image/png": "[encoded data removed]",
      "text/plain": [
       "<Figure size 640x480 with 1 Axes>"
      ]
     },
     "metadata": {},
     "output_type": "display_data"
    }
   ],
   "source": [
    "sns.boxplot(df2['User Rating'])"
   ]
  },
  {
   "cell_type": "code",
   "execution_count": 168,
   "metadata": {},
   "outputs": [
    {
     "name": "stdout",
     "output_type": "stream",
     "text": [
      "<class 'pandas.core.frame.DataFrame'>\n",
      "Index: 5743 entries, 0 to 45716\n",
      "Data columns (total 6 columns):\n",
      " #   Column           Non-Null Count  Dtype  \n",
      "---  ------           --------------  -----  \n",
      " 0   Title            5743 non-null   object \n",
      " 1   Genre            5743 non-null   object \n",
      " 2   User Rating      5743 non-null   float64\n",
      " 3   Number of Votes  5743 non-null   object \n",
      " 4   Summary          5743 non-null   object \n",
      " 5   Gross            5743 non-null   float64\n",
      "dtypes: float64(2), object(4)\n",
      "memory usage: 443.1+ KB\n"
     ]
    }
   ],
   "source": [
    "df2.isna().any()\n",
    "df2.info()"
   ]
  },
  {
   "cell_type": "code",
   "execution_count": 169,
   "metadata": {},
   "outputs": [],
   "source": [
    "df3=df2"
   ]
  },
  {
   "cell_type": "code",
   "execution_count": 170,
   "metadata": {},
   "outputs": [
    {
     "name": "stdout",
     "output_type": "stream",
     "text": [
      "<class 'pandas.core.frame.DataFrame'>\n",
      "Index: 5743 entries, 0 to 45716\n",
      "Data columns (total 6 columns):\n",
      " #   Column           Non-Null Count  Dtype  \n",
      "---  ------           --------------  -----  \n",
      " 0   Title            5743 non-null   object \n",
      " 1   Genre            5743 non-null   object \n",
      " 2   User Rating      5743 non-null   float64\n",
      " 3   Number of Votes  5743 non-null   object \n",
      " 4   Summary          5743 non-null   object \n",
      " 5   Gross            5743 non-null   float64\n",
      "dtypes: float64(2), object(4)\n",
      "memory usage: 443.1+ KB\n"
     ]
    }
   ],
   "source": [
    "df3.info()"
   ]
  },
  {
   "cell_type": "code",
   "execution_count": 171,
   "metadata": {},
   "outputs": [],
   "source": [
    "tfidf_vectorizer = TfidfVectorizer(token_pattern=r'[a-zA-Z0-9]+', lowercase=True)\n",
    "tfidf_matrix = tfidf_vectorizer.fit_transform(df3['Genre'].apply(lambda x: ' '.join(x)))"
   ]
  },
  {
   "cell_type": "code",
   "execution_count": 172,
   "metadata": {},
   "outputs": [],
   "source": [
    "cosine_sim = linear_kernel(tfidf_matrix, tfidf_matrix)"
   ]
  },
  {
   "cell_type": "code",
   "execution_count": 173,
   "metadata": {},
   "outputs": [
    {
     "data": {
      "text/plain": [
       "array([[1.        , 1.        , 0.57724466, ..., 0.09381918, 0.08251213,\n",
       "        0.05827847],\n",
       "       [1.        , 1.        , 0.57724466, ..., 0.09381918, 0.08251213,\n",
       "        0.05827847],\n",
       "       [0.57724466, 0.57724466, 1.        , ..., 0.51097396, 0.4493916 ,\n",
       "        0.05527288],\n",
       "       ...,\n",
       "       [0.09381918, 0.09381918, 0.51097396, ..., 1.        , 0.41907079,\n",
       "        0.37673178],\n",
       "       [0.08251213, 0.08251213, 0.4493916 , ..., 0.41907079, 1.        ,\n",
       "        0.04533156],\n",
       "       [0.05827847, 0.05827847, 0.05527288, ..., 0.37673178, 0.04533156,\n",
       "        1.        ]])"
      ]
     },
     "execution_count": 173,
     "metadata": {},
     "output_type": "execute_result"
    }
   ],
   "source": [
    "cosine_sim"
   ]
  },
  {
   "cell_type": "code",
   "execution_count": 174,
   "metadata": {},
   "outputs": [
    {
     "data": {
      "text/html": [
       "<div>\n",
       "<style scoped>\n",
       "    .dataframe tbody tr th:only-of-type {\n",
       "        vertical-align: middle;\n",
       "    }\n",
       "\n",
       "    .dataframe tbody tr th {\n",
       "        vertical-align: top;\n",
       "    }\n",
       "\n",
       "    .dataframe thead th {\n",
       "        text-align: right;\n",
       "    }\n",
       "</style>\n",
       "<table border=\"1\" class=\"dataframe\">\n",
       "  <thead>\n",
       "    <tr style=\"text-align: right;\">\n",
       "      <th></th>\n",
       "      <th>Title</th>\n",
       "      <th>Genre</th>\n",
       "      <th>User Rating</th>\n",
       "      <th>Number of Votes</th>\n",
       "      <th>Summary</th>\n",
       "      <th>Gross</th>\n",
       "    </tr>\n",
       "  </thead>\n",
       "  <tbody>\n",
       "    <tr>\n",
       "      <th>0</th>\n",
       "      <td>One Piece</td>\n",
       "      <td>[Animation, Action, Adventure]</td>\n",
       "      <td>8.9</td>\n",
       "      <td>187,689</td>\n",
       "      <td>Follows the adventures of Monkey D. Luffy and ...</td>\n",
       "      <td>187689.0</td>\n",
       "    </tr>\n",
       "    <tr>\n",
       "      <th>1</th>\n",
       "      <td>Teenage Mutant Ninja Turtles: Mutant Mayhem</td>\n",
       "      <td>[Animation, Action, Adventure]</td>\n",
       "      <td>7.4</td>\n",
       "      <td>28,895</td>\n",
       "      <td>The film follows the Turtle brothers as they w...</td>\n",
       "      <td>28895.0</td>\n",
       "    </tr>\n",
       "    <tr>\n",
       "      <th>2</th>\n",
       "      <td>The Super Mario Bros. Movie</td>\n",
       "      <td>[Animation, Adventure, Comedy]</td>\n",
       "      <td>7.1</td>\n",
       "      <td>189,108</td>\n",
       "      <td>A plumber named Mario travels through an under...</td>\n",
       "      <td>189108.0</td>\n",
       "    </tr>\n",
       "    <tr>\n",
       "      <th>3</th>\n",
       "      <td>Attack on Titan</td>\n",
       "      <td>[Animation, Action, Adventure]</td>\n",
       "      <td>9.1</td>\n",
       "      <td>434,457</td>\n",
       "      <td>After his hometown is destroyed and his mother...</td>\n",
       "      <td>434457.0</td>\n",
       "    </tr>\n",
       "    <tr>\n",
       "      <th>4</th>\n",
       "      <td>Jujutsu Kaisen</td>\n",
       "      <td>[Animation, Action, Adventure]</td>\n",
       "      <td>8.5</td>\n",
       "      <td>82,909</td>\n",
       "      <td>A boy swallows a cursed talisman - the finger ...</td>\n",
       "      <td>82909.0</td>\n",
       "    </tr>\n",
       "    <tr>\n",
       "      <th>5</th>\n",
       "      <td>Bleach: Thousand-Year Blood War</td>\n",
       "      <td>[Animation, Action, Adventure]</td>\n",
       "      <td>9.1</td>\n",
       "      <td>28,587</td>\n",
       "      <td>The peace is suddenly broken when warning sire...</td>\n",
       "      <td>28587.0</td>\n",
       "    </tr>\n",
       "    <tr>\n",
       "      <th>6</th>\n",
       "      <td>Demon Slayer: Kimetsu no Yaiba</td>\n",
       "      <td>[Animation, Action, Adventure]</td>\n",
       "      <td>8.6</td>\n",
       "      <td>131,667</td>\n",
       "      <td>A family is attacked by demons and only two me...</td>\n",
       "      <td>131667.0</td>\n",
       "    </tr>\n",
       "    <tr>\n",
       "      <th>7</th>\n",
       "      <td>Puss in Boots: The Last Wish</td>\n",
       "      <td>[Animation, Adventure, Comedy]</td>\n",
       "      <td>7.8</td>\n",
       "      <td>153,495</td>\n",
       "      <td>When Puss in Boots discovers that his passion ...</td>\n",
       "      <td>153495.0</td>\n",
       "    </tr>\n",
       "  </tbody>\n",
       "</table>\n",
       "</div>"
      ],
      "text/plain": [
       "                                         Title  \\\n",
       "0                                    One Piece   \n",
       "1  Teenage Mutant Ninja Turtles: Mutant Mayhem   \n",
       "2                  The Super Mario Bros. Movie   \n",
       "3                              Attack on Titan   \n",
       "4                               Jujutsu Kaisen   \n",
       "5              Bleach: Thousand-Year Blood War   \n",
       "6               Demon Slayer: Kimetsu no Yaiba   \n",
       "7                 Puss in Boots: The Last Wish   \n",
       "\n",
       "                            Genre  User Rating Number of Votes  \\\n",
       "0  [Animation, Action, Adventure]          8.9         187,689   \n",
       "1  [Animation, Action, Adventure]          7.4          28,895   \n",
       "2  [Animation, Adventure, Comedy]          7.1         189,108   \n",
       "3  [Animation, Action, Adventure]          9.1         434,457   \n",
       "4  [Animation, Action, Adventure]          8.5          82,909   \n",
       "5  [Animation, Action, Adventure]          9.1          28,587   \n",
       "6  [Animation, Action, Adventure]          8.6         131,667   \n",
       "7  [Animation, Adventure, Comedy]          7.8         153,495   \n",
       "\n",
       "                                             Summary     Gross  \n",
       "0  Follows the adventures of Monkey D. Luffy and ...  187689.0  \n",
       "1  The film follows the Turtle brothers as they w...   28895.0  \n",
       "2  A plumber named Mario travels through an under...  189108.0  \n",
       "3  After his hometown is destroyed and his mother...  434457.0  \n",
       "4  A boy swallows a cursed talisman - the finger ...   82909.0  \n",
       "5  The peace is suddenly broken when warning sire...   28587.0  \n",
       "6  A family is attacked by demons and only two me...  131667.0  \n",
       "7  When Puss in Boots discovers that his passion ...  153495.0  "
      ]
     },
     "execution_count": 174,
     "metadata": {},
     "output_type": "execute_result"
    }
   ],
   "source": [
    "df3.head(8)"
   ]
  },
  {
   "cell_type": "code",
   "execution_count": 184,
   "metadata": {},
   "outputs": [],
   "source": [
    "def get_recommendations(title):\n",
    "    idx = df3[df3['Title'] == title].index[0]\n",
    "    sim_scores = list(enumerate(cosine_sim[idx]))\n",
    "    sim_scores = sorted(sim_scores, key=lambda x: x[1], reverse=True)\n",
    "    sim_scores = sim_scores[1:6]  # Top 5 anime\n",
    "    anime_indices = [i[0] for i in sim_scores]\n",
    "    \n",
    "    recommendations = df3.iloc[anime_indices][['Title', 'Summary']]\n",
    "    return recommendations"
   ]
  },
  {
   "cell_type": "code",
   "execution_count": 185,
   "metadata": {},
   "outputs": [],
   "source": [
    "def get_recommendations(title):\n",
    "    if title not in df3['Title'].values:\n",
    "        return \"Movie not found in the dataset.\"\n",
    "    idx = df3[df3['Title'] == title].index[0]\n",
    "    sim_scores = list(enumerate(cosine_sim[idx]))\n",
    "    sim_scores = sorted(sim_scores, key=lambda x: x[1], reverse=True)\n",
    "    sim_scores = sim_scores[1:6]  # Top 5 recommendations\n",
    "    anime_indices = [i[0] for i in sim_scores]\n",
    "    \n",
    "    recommendations = df3.iloc[anime_indices][['Title', 'Summary']]\n",
    "    output = ''\n",
    "    for index, row in recommendations.iterrows():\n",
    "        output += f\"Title: {row['Title']}\\nSummary: {row['Summary']}\\n\\n\"\n",
    "    return output"
   ]
  },
  {
   "cell_type": "code",
   "execution_count": 188,
   "metadata": {},
   "outputs": [
    {
     "name": "stdout",
     "output_type": "stream",
     "text": [
      "Recommended Anime:\n",
      "Title: Teenage Mutant Ninja Turtles: Mutant Mayhem\n",
      "Summary: The film follows the Turtle brothers as they work to earn the love of New York City while facing down an army of mutants.\n",
      "\n",
      "Title: Attack on Titan\n",
      "Summary: After his hometown is destroyed and his mother is killed, young Eren Jaeger vows to cleanse the earth of the giant humanoid Titans that have brought humanity to the brink of extinction.\n",
      "\n",
      "Title: Jujutsu Kaisen\n",
      "Summary: A boy swallows a cursed talisman - the finger of a demon - and becomes cursed himself. He enters a shaman's school to be able to locate the demon's other body parts and thus exorcise himself.\n",
      "\n",
      "Title: Bleach: Thousand-Year Blood War\n",
      "Summary: The peace is suddenly broken when warning sirens blare through the Soul Society. Residents are disappearing without a trace and nobody knows who's behind it. Meanwhile, a darkness is approaching Ichigo and his friends in Karakura Town.\n",
      "\n",
      "Title: Demon Slayer: Kimetsu no Yaiba\n",
      "Summary: A family is attacked by demons and only two members survive - Tanjiro and his sister Nezuko, who is turning into a demon slowly. Tanjiro sets out to become a demon slayer to avenge his family and cure his sister.\n",
      "\n",
      "\n"
     ]
    }
   ],
   "source": [
    "user_input = \"Naruto\"       \n",
    "suggestion = get_recommendations(user_input)\n",
    "print(\"Recommended Anime:\")\n",
    "print(suggestion)\n",
    "            \n"
   ]
  },
  {
   "cell_type": "code",
   "execution_count": 181,
   "metadata": {},
   "outputs": [
    {
     "data": {
      "text/plain": [
       "<bound method Series.unique of 0        [Animation, Action, Adventure]\n",
       "1        [Animation, Action, Adventure]\n",
       "2        [Animation, Adventure, Comedy]\n",
       "3        [Animation, Action, Adventure]\n",
       "4        [Animation, Action, Adventure]\n",
       "                      ...              \n",
       "27044    [Animation, Action, Adventure]\n",
       "30247    [Animation, Adventure, Sci-Fi]\n",
       "36756        [Animation, Comedy, Drama]\n",
       "36981      [Animation, Comedy, Fantasy]\n",
       "45716         [Animation, Drama, Sport]\n",
       "Name: Genre, Length: 5743, dtype: object>"
      ]
     },
     "execution_count": 181,
     "metadata": {},
     "output_type": "execute_result"
    }
   ],
   "source": [
    "\n",
    "u=df3['Genre']\n",
    "u.unique\n",
    "\n",
    "\n",
    "    "
   ]
  },
  {
   "cell_type": "code",
   "execution_count": null,
   "metadata": {},
   "outputs": [],
   "source": []
  },
  {
   "cell_type": "code",
   "execution_count": 182,
   "metadata": {},
   "outputs": [],
   "source": [
    "def recgen (gen):\n",
    "    g=df3.Genre\n",
    "    d=str(g)\n",
    "    d.split()\n",
    "    if gen in d:\n",
    "        return(df3.nlargest(5,'User Rating'))\n",
    "       "
   ]
  },
  {
   "cell_type": "code",
   "execution_count": 183,
   "metadata": {},
   "outputs": [
    {
     "data": {
      "text/plain": [
       "3233                                  Show Time!\n",
       "20926                                   StarBeam\n",
       "2761                   Beyblade Burst QuadStrike\n",
       "646          Ramayana: The Legend of Prince Rama\n",
       "6132     King of Fighters '96 Neo-Geo Collection\n",
       "Name: Title, dtype: object"
      ]
     },
     "execution_count": 183,
     "metadata": {},
     "output_type": "execute_result"
    }
   ],
   "source": [
    "gen=\"Adventure\"\n",
    "df4=recgen(gen)\n",
    "df4['Title']\n"
   ]
  },
  {
   "cell_type": "code",
   "execution_count": 104,
   "metadata": {},
   "outputs": [
    {
     "ename": "NameError",
     "evalue": "name 'cosine_similarity' is not defined",
     "output_type": "error",
     "traceback": [
      "\u001b[1;31m---------------------------------------------------------------------------\u001b[0m",
      "\u001b[1;31mNameError\u001b[0m                                 Traceback (most recent call last)",
      "Cell \u001b[1;32mIn[104], line 28\u001b[0m\n\u001b[0;32m     25\u001b[0m selected_genre \u001b[38;5;241m=\u001b[39m \u001b[38;5;124m'\u001b[39m\u001b[38;5;124mAction\u001b[39m\u001b[38;5;124m'\u001b[39m  \u001b[38;5;66;03m# Assume user selected 'Action' genre from drop-down list\u001b[39;00m\n\u001b[0;32m     27\u001b[0m \u001b[38;5;66;03m# Generate recommendations based on user rating and selected genre\u001b[39;00m\n\u001b[1;32m---> 28\u001b[0m recommended_items \u001b[38;5;241m=\u001b[39m generate_recommendations(user_rating, selected_genre)\n\u001b[0;32m     29\u001b[0m \u001b[38;5;28mprint\u001b[39m(recommended_items)\n",
      "Cell \u001b[1;32mIn[104], line 13\u001b[0m, in \u001b[0;36mgenerate_recommendations\u001b[1;34m(user_rating, selected_genre)\u001b[0m\n\u001b[0;32m     11\u001b[0m \u001b[38;5;28;01mdef\u001b[39;00m \u001b[38;5;21mgenerate_recommendations\u001b[39m(user_rating, selected_genre):\n\u001b[0;32m     12\u001b[0m     \u001b[38;5;66;03m# Calculate similarity\u001b[39;00m\n\u001b[1;32m---> 13\u001b[0m     similarity_scores \u001b[38;5;241m=\u001b[39m calculate_similarity(user_rating, selected_genre)\n\u001b[0;32m     15\u001b[0m     \u001b[38;5;66;03m# Get indices of top recommendations\u001b[39;00m\n\u001b[0;32m     16\u001b[0m     top_indices \u001b[38;5;241m=\u001b[39m similarity_scores\u001b[38;5;241m.\u001b[39margsort()[\u001b[38;5;241m0\u001b[39m][\u001b[38;5;241m-\u001b[39m\u001b[38;5;241m5\u001b[39m:][::\u001b[38;5;241m-\u001b[39m\u001b[38;5;241m1\u001b[39m]  \u001b[38;5;66;03m# Adjust the number of recommendations as needed\u001b[39;00m\n",
      "Cell \u001b[1;32mIn[104], line 6\u001b[0m, in \u001b[0;36mcalculate_similarity\u001b[1;34m(user_rating, selected_genre)\u001b[0m\n\u001b[0;32m      3\u001b[0m genre_filtered_df \u001b[38;5;241m=\u001b[39m df3[df3[\u001b[38;5;124m'\u001b[39m\u001b[38;5;124mGenre\u001b[39m\u001b[38;5;124m'\u001b[39m] \u001b[38;5;241m==\u001b[39m selected_genre]\n\u001b[0;32m      5\u001b[0m \u001b[38;5;66;03m# Calculate cosine similarity between user rating and genre\u001b[39;00m\n\u001b[1;32m----> 6\u001b[0m user_rating_sim \u001b[38;5;241m=\u001b[39m cosine_similarity(genre_filtered_df[\u001b[38;5;124m'\u001b[39m\u001b[38;5;124mUserRating\u001b[39m\u001b[38;5;124m'\u001b[39m]\u001b[38;5;241m.\u001b[39mvalues\u001b[38;5;241m.\u001b[39mreshape(\u001b[38;5;241m1\u001b[39m, \u001b[38;5;241m-\u001b[39m\u001b[38;5;241m1\u001b[39m), [user_rating])\n\u001b[0;32m      8\u001b[0m \u001b[38;5;28;01mreturn\u001b[39;00m user_rating_sim\n",
      "\u001b[1;31mNameError\u001b[0m: name 'cosine_similarity' is not defined"
     ]
    }
   ],
   "source": [
    "\n",
    "\n"
   ]
  },
  {
   "cell_type": "code",
   "execution_count": 102,
   "metadata": {},
   "outputs": [],
   "source": []
  },
  {
   "cell_type": "code",
   "execution_count": 105,
   "metadata": {},
   "outputs": [
    {
     "name": "stdout",
     "output_type": "stream",
     "text": [
      "[[0.         0.         0.40856449 ... 0.         0.         0.        ]\n",
      " [0.         0.         0.40856449 ... 0.         0.         0.        ]\n",
      " [0.         0.         0.40856449 ... 0.         0.         0.        ]\n",
      " ...\n",
      " [0.         0.         0.40856449 ... 0.         0.         0.        ]\n",
      " [0.         0.         0.40856449 ... 0.         0.         0.        ]\n",
      " [0.         0.         0.40856449 ... 0.         0.         0.        ]]\n"
     ]
    },
    {
     "name": "stderr",
     "output_type": "stream",
     "text": [
      "C:\\Users\\jalaj\\AppData\\Local\\Temp\\ipykernel_8712\\2981186401.py:10: SettingWithCopyWarning: \n",
      "A value is trying to be set on a copy of a slice from a DataFrame.\n",
      "Try using .loc[row_indexer,col_indexer] = value instead\n",
      "\n",
      "See the caveats in the documentation: https://pandas.pydata.org/pandas-docs/stable/user_guide/indexing.html#returning-a-view-versus-a-copy\n",
      "  df3['RatingCategory'] = df3['User Rating'].apply(categorize_rating)\n"
     ]
    }
   ],
   "source": [
    "\n"
   ]
  }
 ],
 "metadata": {
  "kernelspec": {
   "display_name": "Python 3",
   "language": "python",
   "name": "python3"
  },
  "language_info": {
   "codemirror_mode": {
    "name": "ipython",
    "version": 3
   },
   "file_extension": ".py",
   "mimetype": "text/x-python",
   "name": "python",
   "nbconvert_exporter": "python",
   "pygments_lexer": "ipython3",
   "version": "3.11.5"
  }
 },
 "nbformat": 4,
 "nbformat_minor": 2
}
